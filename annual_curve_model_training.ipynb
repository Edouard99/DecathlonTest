{
 "cells": [
  {
   "attachments": {},
   "cell_type": "markdown",
   "metadata": {},
   "source": [
    "# Import Files  &  Libs"
   ]
  },
  {
   "cell_type": "code",
   "execution_count": null,
   "metadata": {},
   "outputs": [],
   "source": [
    "from google.colab import drive\n",
    "from google.colab import files\n",
    "drive.mount(\"/content/gdrive\", force_remount=True)\n",
    "!cp /content/gdrive/MyDrive/Decathlon/project.zip /content/\n",
    "!unzip -q /content/project.zip\n",
    "!rm /content/project.zip\n",
    "!mkdir /content/results"
   ]
  },
  {
   "cell_type": "code",
   "execution_count": null,
   "metadata": {},
   "outputs": [],
   "source": [
    "import numpy as np\n",
    "import matplotlib.pyplot as plt\n",
    "\n",
    "from model import curvegen\n",
    "from dataset import dataset\n",
    "from sklearn.neighbors import KNeighborsRegressor\n",
    "import sklearn\n",
    "import scipy\n",
    "import tqdm\n",
    "import os\n",
    "from importlib import reload\n",
    "reload(curvegen)\n",
    "reload(dataset)"
   ]
  },
  {
   "attachments": {},
   "cell_type": "markdown",
   "metadata": {},
   "source": [
    "# Load Data"
   ]
  },
  {
   "attachments": {},
   "cell_type": "markdown",
   "metadata": {},
   "source": [
    "Loads average annual turnovers timeserie dataset from json files and preprocess data"
   ]
  },
  {
   "cell_type": "code",
   "execution_count": 76,
   "metadata": {},
   "outputs": [],
   "source": [
    "annual_ds_train=dataset.Annual_construction_dataset()\n",
    "with open('data_annual_train.json', 'r') as f:\n",
    "    annual_ds_train.load_from_json(f)\n",
    "annual_ds_val=dataset.Annual_construction_dataset()\n",
    "with open('data_annual_val.json', 'r') as f:\n",
    "    annual_ds_val.load_from_json(f)\n",
    "annual_ds_train.set_data_for_training(False)\n",
    "annual_ds_val.set_data_for_training(False)"
   ]
  },
  {
   "attachments": {},
   "cell_type": "markdown",
   "metadata": {},
   "source": [
    "# Model"
   ]
  },
  {
   "attachments": {},
   "cell_type": "markdown",
   "metadata": {},
   "source": [
    "Fits the models on training set and calculates cosine, L1 and L2 loss on validation set."
   ]
  },
  {
   "cell_type": "code",
   "execution_count": null,
   "metadata": {},
   "outputs": [],
   "source": [
    "X_train=[]\n",
    "Y_train=[]\n",
    "X_val=[]\n",
    "Y_val=[]\n",
    "dep=127\n",
    "for sample in annual_ds_train.samples_per_dep[dep]:\n",
    "    Y_train.append(sample[0])\n",
    "    X_train.append(sample[1])\n",
    "X_train=np.array(X_train)\n",
    "Y_train=np.array(Y_train)\n",
    "for sample in annual_ds_val.samples_per_dep[dep]:\n",
    "    Y_val.append(sample[0])\n",
    "    X_val.append(sample[1])\n",
    "X_val=np.array(X_val)\n",
    "Y_val=np.array(Y_val)\n",
    "def custom_distance(x,y,w):\n",
    "    cat1_x=x[0:8]\n",
    "    cat2_x=x[8:29+8]\n",
    "    cat3_x=x[29+8:]\n",
    "    cat1_y=y[0:8]\n",
    "    cat2_y=y[8:29+8]\n",
    "    cat3_y=y[29+8:]\n",
    "    cat1_d=w[0]*scipy.spatial.distance.minkowski(cat1_x, cat1_y, p=2, w=None)*(1/np.sqrt(2))\n",
    "    cat2_d=w[1]*scipy.spatial.distance.minkowski(cat2_x, cat2_y, p=2, w=None)*(1/np.sqrt(2))\n",
    "    cat3_d=scipy.spatial.distance.minkowski(cat3_x, cat3_y, p=2, w=None)\n",
    "    return cat1_d+cat2_d+cat3_d+w[2]\n",
    "results=[]\n",
    "gt=Y_val\n",
    "for k in tqdm.tqdm(range(1,10)):\n",
    "    for w1 in np.linspace(0,1,4):\n",
    "        for w2 in np.linspace(0,1,4):\n",
    "          for w3 in np.linspace(0,1,4):\n",
    "            knn = KNeighborsRegressor(n_neighbors=k,weights='distance',n_jobs=-1,metric=lambda a,b:custom_distance(a,b,np.array([w1,w2,w3])))\n",
    "            knn.fit(X_train, Y_train)\n",
    "            pred=knn.predict(X_val)\n",
    "            for n in range(len(pred)):\n",
    "                pred[n]=dataset.norm(pred[n],np.max(pred[n]),np.min(pred[n]))\n",
    "            cosine_loss=1-np.mean(np.diag(sklearn.metrics.pairwise.cosine_similarity(pred,gt)))\n",
    "            l1_loss=sklearn.metrics.mean_absolute_error(pred,gt)\n",
    "            l2_loss=sklearn.metrics.mean_squared_error(pred,gt)\n",
    "            results.append({\n",
    "                \"w\":[w1,w2,w3],\n",
    "                \"k\":k,\n",
    "                \"cos_loss\":cosine_loss,\n",
    "                \"l1_loss\":l1_loss,\n",
    "                \"l2_loss\":l2_loss\n",
    "            })\n"
   ]
  },
  {
   "attachments": {},
   "cell_type": "markdown",
   "metadata": {},
   "source": [
    "# Hyperparameters Search :"
   ]
  },
  {
   "cell_type": "code",
   "execution_count": null,
   "metadata": {},
   "outputs": [],
   "source": [
    "key=\"cos_loss\"\n",
    "loss_list=[]\n",
    "for result in results:\n",
    "    loss_list.append(result[key])\n",
    "min_loss_index=np.argmin(loss_list)\n",
    "min_loss=loss_list[min_loss_index]\n",
    "best_param=results[min_loss_index]\n",
    "print(\"w = {} \\t || k = {} \\t || loss = {}\".format(best_param[\"w\"],best_param[\"k\"],min_loss))"
   ]
  },
  {
   "cell_type": "code",
   "execution_count": null,
   "metadata": {},
   "outputs": [],
   "source": [
    "key=\"l1_loss\"\n",
    "loss_list=[]\n",
    "for result in results:\n",
    "    loss_list.append(result[key])\n",
    "min_loss_index=np.argmin(loss_list)\n",
    "min_loss=loss_list[min_loss_index]\n",
    "best_param=results[min_loss_index]\n",
    "print(\"w = {} \\t || k = {} \\t || loss = {}\".format(best_param[\"w\"],best_param[\"k\"],min_loss))"
   ]
  },
  {
   "cell_type": "code",
   "execution_count": null,
   "metadata": {},
   "outputs": [],
   "source": [
    "key=\"l2_loss\"\n",
    "loss_list=[]\n",
    "for result in results:\n",
    "    loss_list.append(result[key])\n",
    "min_loss_index=np.argmin(loss_list)\n",
    "min_loss=loss_list[min_loss_index]\n",
    "best_param=results[min_loss_index]\n",
    "print(\"w = {} \\t || k = {} \\t || loss = {}\".format(best_param[\"w\"],best_param[\"k\"],min_loss))"
   ]
  },
  {
   "cell_type": "code",
   "execution_count": null,
   "metadata": {},
   "outputs": [],
   "source": [
    "n=190\n",
    "knn = KNeighborsRegressor(n_neighbors=2,weights='distance',n_jobs=-1,metric=lambda a,b:custom_distance(a,b,np.array([1,1,0.0001])))\n",
    "knn.fit(X_train, Y_train)\n",
    "pred=knn.predict(X_val)\n",
    "gt=Y_val\n",
    "print(sklearn.metrics.pairwise.cosine_similarity(dataset.norm(pred[n],np.max(pred[n]),np.min(pred[n])).reshape(1, -1),gt[n].reshape(1, -1)))\n",
    "l1y=dataset.norm(pred[n],np.max(pred[n]),np.min(pred[n]))\n",
    "plt.plot(l1y,color='red')\n",
    "plt.plot(gt[n])\n",
    "plt.show()"
   ]
  },
  {
   "cell_type": "code",
   "execution_count": null,
   "metadata": {},
   "outputs": [],
   "source": [
    "n=190\n",
    "knn = KNeighborsRegressor(n_neighbors=4,weights='distance',n_jobs=-1,metric=lambda a,b:custom_distance(a,b,np.array([2/3, 0.0, 1])))\n",
    "knn.fit(X_train, Y_train)\n",
    "pred=knn.predict(X_val)\n",
    "gt=Y_val\n",
    "print(sklearn.metrics.pairwise.cosine_similarity(dataset.norm(pred[n],np.max(pred[n]),np.min(pred[n])).reshape(1, -1),gt[n].reshape(1, -1)))\n",
    "plt.plot(dataset.norm(pred[n],np.max(pred[n]),np.min(pred[n])),color='red')\n",
    "plt.plot(gt[n])\n",
    "plt.plot(l1y,color='green')\n",
    "plt.show()"
   ]
  }
 ],
 "metadata": {
  "kernelspec": {
   "display_name": "Python 3",
   "language": "python",
   "name": "python3"
  },
  "language_info": {
   "codemirror_mode": {
    "name": "ipython",
    "version": 3
   },
   "file_extension": ".py",
   "mimetype": "text/x-python",
   "name": "python",
   "nbconvert_exporter": "python",
   "pygments_lexer": "ipython3",
   "version": "3.9.7 (tags/v3.9.7:1016ef3, Aug 30 2021, 20:19:38) [MSC v.1929 64 bit (AMD64)]"
  },
  "orig_nbformat": 4,
  "vscode": {
   "interpreter": {
    "hash": "acb408c112aa627a318ac6bee697c54a21dc0d988d17c05deacc60f98e48531a"
   }
  }
 },
 "nbformat": 4,
 "nbformat_minor": 2
}
