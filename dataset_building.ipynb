{
 "cells": [
  {
   "attachments": {},
   "cell_type": "markdown",
   "metadata": {},
   "source": [
    "# Import libs & data"
   ]
  },
  {
   "cell_type": "code",
   "execution_count": 53,
   "metadata": {},
   "outputs": [],
   "source": [
    "import numpy as np\n",
    "import pandas as pd\n",
    "import os\n",
    "import matplotlib.pyplot as plt\n",
    "from utils import utils\n",
    "from sklearn.neighbors import KNeighborsRegressor\n",
    "import sklearn"
   ]
  },
  {
   "cell_type": "code",
   "execution_count": 54,
   "metadata": {},
   "outputs": [],
   "source": [
    "raw_df=pd.read_csv(\"./test_data_scientist/train.csv\")\n",
    "test_df=pd.read_csv(\"./test_data_scientist/test.csv\")\n",
    "bu_feat=pd.read_csv(\"./test_data_scientist/bu_feat.csv\")\n",
    "raw_df[\"day_id\"]=pd.to_datetime(raw_df[\"day_id\"])\n",
    "raw_df.loc[231272,\"turnover\"]=np.mean([360.013595,364.825805,381.773418])\n",
    "test_df[\"day_id\"]=pd.to_datetime(test_df[\"day_id\"])\n",
    "limit=pd.to_datetime('2016-01-02')\n",
    "train_df=raw_df[raw_df[\"day_id\"]<=limit].reset_index(drop=True)\n",
    "val_df=raw_df[raw_df[\"day_id\"]>limit].reset_index(drop=True)"
   ]
  },
  {
   "attachments": {},
   "cell_type": "markdown",
   "metadata": {},
   "source": [
    "# Creating annual curve dataset"
   ]
  },
  {
   "cell_type": "code",
   "execution_count": 119,
   "metadata": {},
   "outputs": [
    {
     "data": {
      "text/plain": [
       "<module 'dataset.dataset' from 'c:\\\\Users\\\\Edouard\\\\github\\\\DecathlonTest\\\\dataset\\\\dataset.py'>"
      ]
     },
     "execution_count": 119,
     "metadata": {},
     "output_type": "execute_result"
    }
   ],
   "source": [
    "from dataset import dataset\n",
    "from importlib import reload\n",
    "reload(dataset)"
   ]
  },
  {
   "cell_type": "code",
   "execution_count": 108,
   "metadata": {},
   "outputs": [
    {
     "name": "stderr",
     "output_type": "stream",
     "text": [
      "100%|██████████| 278/278 [00:11<00:00, 24.16it/s]\n",
      "100%|██████████| 322/322 [00:07<00:00, 42.51it/s]\n"
     ]
    }
   ],
   "source": [
    "deconv_ds_train=dataset.Annual_construction_dataset()\n",
    "deconv_ds_val=dataset.Annual_construction_dataset()\n",
    "deconv_ds_train.load_from_df(train_df,bu_feat)\n",
    "deconv_ds_val.load_from_df(val_df,bu_feat)"
   ]
  },
  {
   "cell_type": "code",
   "execution_count": 73,
   "metadata": {},
   "outputs": [],
   "source": [
    "with open('data_deconv_train.json', 'w') as f:\n",
    "    deconv_ds_train.save_ds_to_json(f)\n",
    "with open('data_deconv_val.json', 'w') as f:\n",
    "    deconv_ds_val.save_ds_to_json(f)"
   ]
  },
  {
   "cell_type": "code",
   "execution_count": 109,
   "metadata": {},
   "outputs": [],
   "source": [
    "deconv_ds_train=dataset.Annual_construction_dataset()\n",
    "with open('data_deconv_train.json', 'r') as f:\n",
    "    deconv_ds_train.load_from_json(f)\n",
    "deconv_ds_val=dataset.Annual_construction_dataset()\n",
    "with open('data_deconv_val.json', 'r') as f:\n",
    "    deconv_ds_val.load_from_json(f)"
   ]
  },
  {
   "cell_type": "code",
   "execution_count": 110,
   "metadata": {},
   "outputs": [],
   "source": [
    "deconv_ds_train.set_data_for_training(False)\n",
    "deconv_ds_val.set_data_for_training(False)"
   ]
  },
  {
   "attachments": {},
   "cell_type": "markdown",
   "metadata": {},
   "source": [
    "# Creating Turnover Dataset"
   ]
  },
  {
   "cell_type": "code",
   "execution_count": 121,
   "metadata": {},
   "outputs": [],
   "source": [
    "params={\n",
    "    73:[9,np.array([2/3,0,1/3])],\n",
    "    88:[8,np.array([2/3,0,1/3])],\n",
    "    117:[6,np.array([1,0,1])],\n",
    "    127:[4,np.array([2/3,0,1])]    \n",
    "}\n",
    "dic_knn={\n",
    "    73:None,\n",
    "    88:None,\n",
    "    117:None,\n",
    "    127:None\n",
    "}\n",
    "for dep in params.keys():\n",
    "    X_train=[]\n",
    "    Y_train=[]\n",
    "    X_val=[]\n",
    "    Y_val=[]\n",
    "    for sample in deconv_ds_train.samples_per_dep[dep]:\n",
    "        Y_train.append(sample[0])\n",
    "        X_train.append(sample[1])\n",
    "    X_train=np.array(X_train)\n",
    "    Y_train=np.array(Y_train)\n",
    "    for sample in deconv_ds_val.samples_per_dep[dep]:\n",
    "        Y_val.append(sample[0])\n",
    "        X_val.append(sample[1])\n",
    "    X_val=np.array(X_val)\n",
    "    Y_val=np.array(Y_val)\n",
    "    dic_knn[dep] = KNeighborsRegressor(n_neighbors=params[dep][0],weights='distance',n_jobs=-1,metric=lambda a,b:utils.custom_distance(a,b,params[dep][1])).fit(X_train, Y_train)"
   ]
  },
  {
   "cell_type": "code",
   "execution_count": 122,
   "metadata": {},
   "outputs": [],
   "source": [
    "ds_train=dataset.Turnover_dataset(dic_knn)\n",
    "ds_val=dataset.Turnover_dataset(dic_knn)"
   ]
  },
  {
   "cell_type": "code",
   "execution_count": 123,
   "metadata": {},
   "outputs": [
    {
     "name": "stderr",
     "output_type": "stream",
     "text": [
      "100%|██████████| 278/278 [25:57<00:00,  5.60s/it]\n",
      "100%|██████████| 322/322 [15:56<00:00,  2.97s/it]\n"
     ]
    }
   ],
   "source": [
    "ds_train.load_from_df(train_df,bu_feat)\n",
    "ds_val.load_from_df(val_df,bu_feat)"
   ]
  },
  {
   "cell_type": "code",
   "execution_count": 125,
   "metadata": {},
   "outputs": [],
   "source": [
    "with open('train_data.json', 'w') as f:\n",
    "    ds_train.save_ds_to_json(f)\n",
    "with open('val_data.json', 'w') as f:\n",
    "    ds_val.save_ds_to_json(f)"
   ]
  },
  {
   "cell_type": "code",
   "execution_count": 101,
   "metadata": {},
   "outputs": [],
   "source": [
    "ds_train=dataset.Turnover_dataset(None)\n",
    "ds_val=dataset.Turnover_dataset(None)\n",
    "with open('train_data.json', 'r') as f:\n",
    "    ds_train.load_from_json(f)\n",
    "with open('val_data.json', 'r') as f:\n",
    "    ds_val.load_from_json(f)\n",
    "ds_train.set_data_for_training(False)\n",
    "ds_val.set_data_for_training(False)"
   ]
  },
  {
   "attachments": {},
   "cell_type": "markdown",
   "metadata": {},
   "source": [
    "# Visualization"
   ]
  },
  {
   "cell_type": "code",
   "execution_count": null,
   "metadata": {},
   "outputs": [],
   "source": [
    "train_df=train_df.join(train_df[\"day_id\"].dt.isocalendar())"
   ]
  },
  {
   "cell_type": "code",
   "execution_count": 87,
   "metadata": {},
   "outputs": [
    {
     "name": "stdout",
     "output_type": "stream",
     "text": [
      "454 117 2014-09-06 00:00:00\n"
     ]
    }
   ],
   "source": [
    "n=3600\n",
    "bu=ds_train.samples[n][\"bu_num\"]\n",
    "dep=ds_train.samples[n][\"dep\"]\n",
    "day_id=ds_train.samples[n][\"day_id\"]\n",
    "print(bu,dep,day_id)"
   ]
  },
  {
   "cell_type": "code",
   "execution_count": 88,
   "metadata": {},
   "outputs": [
    {
     "data": {
      "text/html": [
       "<div>\n",
       "<style scoped>\n",
       "    .dataframe tbody tr th:only-of-type {\n",
       "        vertical-align: middle;\n",
       "    }\n",
       "\n",
       "    .dataframe tbody tr th {\n",
       "        vertical-align: top;\n",
       "    }\n",
       "\n",
       "    .dataframe thead th {\n",
       "        text-align: right;\n",
       "    }\n",
       "</style>\n",
       "<table border=\"1\" class=\"dataframe\">\n",
       "  <thead>\n",
       "    <tr style=\"text-align: right;\">\n",
       "      <th></th>\n",
       "      <th>index</th>\n",
       "      <th>day_id</th>\n",
       "      <th>but_num_business_unit</th>\n",
       "      <th>dpt_num_department</th>\n",
       "      <th>turnover</th>\n",
       "      <th>year</th>\n",
       "      <th>week</th>\n",
       "      <th>day</th>\n",
       "    </tr>\n",
       "  </thead>\n",
       "  <tbody>\n",
       "    <tr>\n",
       "      <th>50353</th>\n",
       "      <td>160161</td>\n",
       "      <td>2015-02-14</td>\n",
       "      <td>454</td>\n",
       "      <td>117</td>\n",
       "      <td>1613.140533</td>\n",
       "      <td>2015</td>\n",
       "      <td>7</td>\n",
       "      <td>6</td>\n",
       "    </tr>\n",
       "    <tr>\n",
       "      <th>51378</th>\n",
       "      <td>161186</td>\n",
       "      <td>2015-02-07</td>\n",
       "      <td>454</td>\n",
       "      <td>117</td>\n",
       "      <td>2566.357700</td>\n",
       "      <td>2015</td>\n",
       "      <td>6</td>\n",
       "      <td>6</td>\n",
       "    </tr>\n",
       "    <tr>\n",
       "      <th>52385</th>\n",
       "      <td>162193</td>\n",
       "      <td>2015-01-31</td>\n",
       "      <td>454</td>\n",
       "      <td>117</td>\n",
       "      <td>2325.086308</td>\n",
       "      <td>2015</td>\n",
       "      <td>5</td>\n",
       "      <td>6</td>\n",
       "    </tr>\n",
       "    <tr>\n",
       "      <th>53750</th>\n",
       "      <td>163558</td>\n",
       "      <td>2015-01-24</td>\n",
       "      <td>454</td>\n",
       "      <td>117</td>\n",
       "      <td>2035.472484</td>\n",
       "      <td>2015</td>\n",
       "      <td>4</td>\n",
       "      <td>6</td>\n",
       "    </tr>\n",
       "    <tr>\n",
       "      <th>54845</th>\n",
       "      <td>164653</td>\n",
       "      <td>2015-01-17</td>\n",
       "      <td>454</td>\n",
       "      <td>117</td>\n",
       "      <td>1323.016978</td>\n",
       "      <td>2015</td>\n",
       "      <td>3</td>\n",
       "      <td>6</td>\n",
       "    </tr>\n",
       "    <tr>\n",
       "      <th>56143</th>\n",
       "      <td>165951</td>\n",
       "      <td>2015-01-10</td>\n",
       "      <td>454</td>\n",
       "      <td>117</td>\n",
       "      <td>2187.949350</td>\n",
       "      <td>2015</td>\n",
       "      <td>2</td>\n",
       "      <td>6</td>\n",
       "    </tr>\n",
       "    <tr>\n",
       "      <th>56689</th>\n",
       "      <td>166497</td>\n",
       "      <td>2015-01-03</td>\n",
       "      <td>454</td>\n",
       "      <td>117</td>\n",
       "      <td>4764.469886</td>\n",
       "      <td>2015</td>\n",
       "      <td>1</td>\n",
       "      <td>6</td>\n",
       "    </tr>\n",
       "    <tr>\n",
       "      <th>57981</th>\n",
       "      <td>167789</td>\n",
       "      <td>2014-12-27</td>\n",
       "      <td>454</td>\n",
       "      <td>117</td>\n",
       "      <td>2414.525846</td>\n",
       "      <td>2014</td>\n",
       "      <td>52</td>\n",
       "      <td>6</td>\n",
       "    </tr>\n",
       "    <tr>\n",
       "      <th>59177</th>\n",
       "      <td>168985</td>\n",
       "      <td>2014-12-20</td>\n",
       "      <td>454</td>\n",
       "      <td>117</td>\n",
       "      <td>1540.124780</td>\n",
       "      <td>2014</td>\n",
       "      <td>51</td>\n",
       "      <td>6</td>\n",
       "    </tr>\n",
       "    <tr>\n",
       "      <th>60129</th>\n",
       "      <td>169937</td>\n",
       "      <td>2014-12-13</td>\n",
       "      <td>454</td>\n",
       "      <td>117</td>\n",
       "      <td>2087.993342</td>\n",
       "      <td>2014</td>\n",
       "      <td>50</td>\n",
       "      <td>6</td>\n",
       "    </tr>\n",
       "    <tr>\n",
       "      <th>60693</th>\n",
       "      <td>170501</td>\n",
       "      <td>2014-12-06</td>\n",
       "      <td>454</td>\n",
       "      <td>117</td>\n",
       "      <td>1783.882796</td>\n",
       "      <td>2014</td>\n",
       "      <td>49</td>\n",
       "      <td>6</td>\n",
       "    </tr>\n",
       "    <tr>\n",
       "      <th>61861</th>\n",
       "      <td>171669</td>\n",
       "      <td>2014-11-29</td>\n",
       "      <td>454</td>\n",
       "      <td>117</td>\n",
       "      <td>1090.094493</td>\n",
       "      <td>2014</td>\n",
       "      <td>48</td>\n",
       "      <td>6</td>\n",
       "    </tr>\n",
       "    <tr>\n",
       "      <th>62712</th>\n",
       "      <td>172520</td>\n",
       "      <td>2014-11-22</td>\n",
       "      <td>454</td>\n",
       "      <td>117</td>\n",
       "      <td>997.564696</td>\n",
       "      <td>2014</td>\n",
       "      <td>47</td>\n",
       "      <td>6</td>\n",
       "    </tr>\n",
       "    <tr>\n",
       "      <th>64106</th>\n",
       "      <td>173914</td>\n",
       "      <td>2014-11-15</td>\n",
       "      <td>454</td>\n",
       "      <td>117</td>\n",
       "      <td>920.755676</td>\n",
       "      <td>2014</td>\n",
       "      <td>46</td>\n",
       "      <td>6</td>\n",
       "    </tr>\n",
       "    <tr>\n",
       "      <th>65085</th>\n",
       "      <td>174893</td>\n",
       "      <td>2014-11-08</td>\n",
       "      <td>454</td>\n",
       "      <td>117</td>\n",
       "      <td>1054.427322</td>\n",
       "      <td>2014</td>\n",
       "      <td>45</td>\n",
       "      <td>6</td>\n",
       "    </tr>\n",
       "    <tr>\n",
       "      <th>66468</th>\n",
       "      <td>176276</td>\n",
       "      <td>2014-11-01</td>\n",
       "      <td>454</td>\n",
       "      <td>117</td>\n",
       "      <td>616.513627</td>\n",
       "      <td>2014</td>\n",
       "      <td>44</td>\n",
       "      <td>6</td>\n",
       "    </tr>\n",
       "    <tr>\n",
       "      <th>67163</th>\n",
       "      <td>176971</td>\n",
       "      <td>2014-10-25</td>\n",
       "      <td>454</td>\n",
       "      <td>117</td>\n",
       "      <td>787.839409</td>\n",
       "      <td>2014</td>\n",
       "      <td>43</td>\n",
       "      <td>6</td>\n",
       "    </tr>\n",
       "    <tr>\n",
       "      <th>68757</th>\n",
       "      <td>178565</td>\n",
       "      <td>2014-10-18</td>\n",
       "      <td>454</td>\n",
       "      <td>117</td>\n",
       "      <td>481.017087</td>\n",
       "      <td>2014</td>\n",
       "      <td>42</td>\n",
       "      <td>6</td>\n",
       "    </tr>\n",
       "    <tr>\n",
       "      <th>69400</th>\n",
       "      <td>179208</td>\n",
       "      <td>2014-10-11</td>\n",
       "      <td>454</td>\n",
       "      <td>117</td>\n",
       "      <td>560.217933</td>\n",
       "      <td>2014</td>\n",
       "      <td>41</td>\n",
       "      <td>6</td>\n",
       "    </tr>\n",
       "    <tr>\n",
       "      <th>70196</th>\n",
       "      <td>180004</td>\n",
       "      <td>2014-10-04</td>\n",
       "      <td>454</td>\n",
       "      <td>117</td>\n",
       "      <td>332.780774</td>\n",
       "      <td>2014</td>\n",
       "      <td>40</td>\n",
       "      <td>6</td>\n",
       "    </tr>\n",
       "    <tr>\n",
       "      <th>72067</th>\n",
       "      <td>181875</td>\n",
       "      <td>2014-09-27</td>\n",
       "      <td>454</td>\n",
       "      <td>117</td>\n",
       "      <td>109.726218</td>\n",
       "      <td>2014</td>\n",
       "      <td>39</td>\n",
       "      <td>6</td>\n",
       "    </tr>\n",
       "    <tr>\n",
       "      <th>72383</th>\n",
       "      <td>182191</td>\n",
       "      <td>2014-09-20</td>\n",
       "      <td>454</td>\n",
       "      <td>117</td>\n",
       "      <td>45.183627</td>\n",
       "      <td>2014</td>\n",
       "      <td>38</td>\n",
       "      <td>6</td>\n",
       "    </tr>\n",
       "    <tr>\n",
       "      <th>74085</th>\n",
       "      <td>183893</td>\n",
       "      <td>2014-09-13</td>\n",
       "      <td>454</td>\n",
       "      <td>117</td>\n",
       "      <td>46.464628</td>\n",
       "      <td>2014</td>\n",
       "      <td>37</td>\n",
       "      <td>6</td>\n",
       "    </tr>\n",
       "    <tr>\n",
       "      <th>75330</th>\n",
       "      <td>185138</td>\n",
       "      <td>2014-09-06</td>\n",
       "      <td>454</td>\n",
       "      <td>117</td>\n",
       "      <td>31.187641</td>\n",
       "      <td>2014</td>\n",
       "      <td>36</td>\n",
       "      <td>6</td>\n",
       "    </tr>\n",
       "  </tbody>\n",
       "</table>\n",
       "</div>"
      ],
      "text/plain": [
       "        index     day_id  but_num_business_unit  dpt_num_department  \\\n",
       "50353  160161 2015-02-14                    454                 117   \n",
       "51378  161186 2015-02-07                    454                 117   \n",
       "52385  162193 2015-01-31                    454                 117   \n",
       "53750  163558 2015-01-24                    454                 117   \n",
       "54845  164653 2015-01-17                    454                 117   \n",
       "56143  165951 2015-01-10                    454                 117   \n",
       "56689  166497 2015-01-03                    454                 117   \n",
       "57981  167789 2014-12-27                    454                 117   \n",
       "59177  168985 2014-12-20                    454                 117   \n",
       "60129  169937 2014-12-13                    454                 117   \n",
       "60693  170501 2014-12-06                    454                 117   \n",
       "61861  171669 2014-11-29                    454                 117   \n",
       "62712  172520 2014-11-22                    454                 117   \n",
       "64106  173914 2014-11-15                    454                 117   \n",
       "65085  174893 2014-11-08                    454                 117   \n",
       "66468  176276 2014-11-01                    454                 117   \n",
       "67163  176971 2014-10-25                    454                 117   \n",
       "68757  178565 2014-10-18                    454                 117   \n",
       "69400  179208 2014-10-11                    454                 117   \n",
       "70196  180004 2014-10-04                    454                 117   \n",
       "72067  181875 2014-09-27                    454                 117   \n",
       "72383  182191 2014-09-20                    454                 117   \n",
       "74085  183893 2014-09-13                    454                 117   \n",
       "75330  185138 2014-09-06                    454                 117   \n",
       "\n",
       "          turnover  year  week  day  \n",
       "50353  1613.140533  2015     7    6  \n",
       "51378  2566.357700  2015     6    6  \n",
       "52385  2325.086308  2015     5    6  \n",
       "53750  2035.472484  2015     4    6  \n",
       "54845  1323.016978  2015     3    6  \n",
       "56143  2187.949350  2015     2    6  \n",
       "56689  4764.469886  2015     1    6  \n",
       "57981  2414.525846  2014    52    6  \n",
       "59177  1540.124780  2014    51    6  \n",
       "60129  2087.993342  2014    50    6  \n",
       "60693  1783.882796  2014    49    6  \n",
       "61861  1090.094493  2014    48    6  \n",
       "62712   997.564696  2014    47    6  \n",
       "64106   920.755676  2014    46    6  \n",
       "65085  1054.427322  2014    45    6  \n",
       "66468   616.513627  2014    44    6  \n",
       "67163   787.839409  2014    43    6  \n",
       "68757   481.017087  2014    42    6  \n",
       "69400   560.217933  2014    41    6  \n",
       "70196   332.780774  2014    40    6  \n",
       "72067   109.726218  2014    39    6  \n",
       "72383    45.183627  2014    38    6  \n",
       "74085    46.464628  2014    37    6  \n",
       "75330    31.187641  2014    36    6  "
      ]
     },
     "execution_count": 88,
     "metadata": {},
     "output_type": "execute_result"
    }
   ],
   "source": [
    "train_df[(train_df[\"day_id\"]>=day_id) \n",
    "    & (train_df[\"day_id\"]<=(day_id+pd.DateOffset(weeks=23)))\n",
    "    & (train_df[\"but_num_business_unit\"]==bu) \n",
    "    & (train_df[\"dpt_num_department\"]==dep)]"
   ]
  },
  {
   "cell_type": "code",
   "execution_count": 89,
   "metadata": {},
   "outputs": [
    {
     "data": {
      "text/plain": [
       "4764.469886136026"
      ]
     },
     "execution_count": 89,
     "metadata": {},
     "output_type": "execute_result"
    }
   ],
   "source": [
    "np.max(train_df[(train_df[\"day_id\"]>=day_id) \n",
    "    & (train_df[\"day_id\"]<=(day_id+pd.DateOffset(weeks=23)))\n",
    "    & (train_df[\"but_num_business_unit\"]==bu) \n",
    "    & (train_df[\"dpt_num_department\"]==dep)][\"turnover\"])"
   ]
  },
  {
   "cell_type": "code",
   "execution_count": 91,
   "metadata": {},
   "outputs": [
    {
     "data": {
      "text/plain": [
       "[<matplotlib.lines.Line2D at 0x294506c84c0>]"
      ]
     },
     "execution_count": 91,
     "metadata": {},
     "output_type": "execute_result"
    },
    {
     "data": {
      "image/png": "[encoded data removed]",
      "text/plain": [
       "<Figure size 640x480 with 1 Axes>"
      ]
     },
     "metadata": {},
     "output_type": "display_data"
    }
   ],
   "source": [
    "plt.plot(train_df[(train_df[\"but_num_business_unit\"]==bu) \n",
    "    & (train_df[\"dpt_num_department\"]==dep)][\"day_id\"].to_numpy()[::-1],train_df[(train_df[\"but_num_business_unit\"]==bu) \n",
    "    & (train_df[\"dpt_num_department\"]==dep)][\"turnover\"].to_numpy()[::-1])"
   ]
  },
  {
   "cell_type": "code",
   "execution_count": 83,
   "metadata": {},
   "outputs": [
    {
     "data": {
      "image/png": "[encoded data removed]",
      "text/plain": [
       "<Figure size 640x480 with 1 Axes>"
      ]
     },
     "metadata": {},
     "output_type": "display_data"
    }
   ],
   "source": [
    "n=3600\n",
    "plt.plot(np.concatenate((ds_train.samples[n][\"seq_x\"],ds_train.samples[n][\"seq_y\"])),color='red')\n",
    "plt.plot(np.concatenate((ds_train.samples[n][\"annual_slice_x\"],ds_train.samples[n][\"annual_slice_y\"])))\n",
    "plt.show()"
   ]
  },
  {
   "attachments": {},
   "cell_type": "markdown",
   "metadata": {},
   "source": [
    "# Tests"
   ]
  },
  {
   "cell_type": "code",
   "execution_count": null,
   "metadata": {},
   "outputs": [],
   "source": [
    "raw_df[raw_df[\"but_num_business_unit\"]==131]"
   ]
  },
  {
   "cell_type": "code",
   "execution_count": null,
   "metadata": {},
   "outputs": [],
   "source": [
    "bu_1=95\n",
    "bu_2=4\n",
    "limit=pd.to_datetime('2017-09-30')-pd.DateOffset(weeks=7)\n",
    "past_data=raw_df[((raw_df[\"but_num_business_unit\"]==bu_1) + (raw_df[\"but_num_business_unit\"]==bu_2)) & (raw_df[\"day_id\"]<limit)]\n",
    "pred_data=raw_df[((raw_df[\"but_num_business_unit\"]==bu_1) + (raw_df[\"but_num_business_unit\"]==bu_2)) & (raw_df[\"day_id\"]>=limit)]\n",
    "past_data.to_csv(\"./test_data_scientist/past_data.csv\",index=False)\n",
    "pred_data.to_csv(\"./test_data_scientist/prediction_data.csv\",index=False)"
   ]
  },
  {
   "cell_type": "code",
   "execution_count": null,
   "metadata": {},
   "outputs": [],
   "source": [
    "bu_s=95\n",
    "dep_s=73\n",
    "past_data[(past_data[\"but_num_business_unit\"]==bu_s) \n",
    "            & (past_data[\"dpt_num_department\"]==dep_s) \n",
    "            & (past_data[\"day_id\"]>=(pd.to_datetime('2017-08-05')-pd.DateOffset(weeks=15)))\n",
    "            ].sort_values(by=[\"day_id\"]).reset_index(drop=True)"
   ]
  },
  {
   "cell_type": "code",
   "execution_count": null,
   "metadata": {},
   "outputs": [],
   "source": [
    "x=past_data[(past_data[\"but_num_business_unit\"]==bu_s) \n",
    "            & (past_data[\"dpt_num_department\"]==dep_s) \n",
    "            & (past_data[\"day_id\"]>=(pd.to_datetime('2017-08-05')-pd.DateOffset(weeks=15)))\n",
    "            ].sort_values(by=[\"day_id\"]).reset_index(drop=True)[\"turnover\"].to_numpy()\n",
    "plt.plot(np.concatenate((x,pred_data[(pred_data[\"but_num_business_unit\"]==bu_s)\n",
    "                        & (pred_data[\"dpt_num_department\"]==dep_s)\n",
    "            ].sort_values(by=[\"day_id\"]).reset_index(drop=True)[\"turnover\"].to_numpy())))"
   ]
  },
  {
   "cell_type": "code",
   "execution_count": null,
   "metadata": {},
   "outputs": [],
   "source": [
    "plt.plot(past_data[(past_data[\"but_num_business_unit\"]==bu_s) \n",
    "            & (past_data[\"dpt_num_department\"]==dep_s)][\"turnover\"])"
   ]
  }
 ],
 "metadata": {
  "kernelspec": {
   "display_name": "Python 3",
   "language": "python",
   "name": "python3"
  },
  "language_info": {
   "codemirror_mode": {
    "name": "ipython",
    "version": 3
   },
   "file_extension": ".py",
   "mimetype": "text/x-python",
   "name": "python",
   "nbconvert_exporter": "python",
   "pygments_lexer": "ipython3",
   "version": "3.9.7 (tags/v3.9.7:1016ef3, Aug 30 2021, 20:19:38) [MSC v.1929 64 bit (AMD64)]"
  },
  "orig_nbformat": 4,
  "vscode": {
   "interpreter": {
    "hash": "acb408c112aa627a318ac6bee697c54a21dc0d988d17c05deacc60f98e48531a"
   }
  }
 },
 "nbformat": 4,
 "nbformat_minor": 2
}
