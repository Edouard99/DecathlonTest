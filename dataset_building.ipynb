{
 "cells": [
  {
   "attachments": {},
   "cell_type": "markdown",
   "metadata": {},
   "source": [
    "# Import libs & data"
   ]
  },
  {
   "cell_type": "code",
   "execution_count": 85,
   "metadata": {},
   "outputs": [],
   "source": [
    "import numpy as np\n",
    "import pandas as pd\n",
    "import os\n",
    "import matplotlib.pyplot as plt"
   ]
  },
  {
   "cell_type": "code",
   "execution_count": 86,
   "metadata": {},
   "outputs": [],
   "source": [
    "raw_df=pd.read_csv(\"./test_data_scientist/train.csv\")\n",
    "test_df=pd.read_csv(\"./test_data_scientist/test.csv\")\n",
    "bu_feat=pd.read_csv(\"./test_data_scientist/bu_feat.csv\")\n",
    "raw_df[\"day_id\"]=pd.to_datetime(raw_df[\"day_id\"])\n",
    "raw_df.loc[231272,\"turnover\"]=np.mean([360.013595,364.825805,381.773418])\n",
    "test_df[\"day_id\"]=pd.to_datetime(test_df[\"day_id\"])\n",
    "limit=pd.to_datetime('2016-01-02')\n",
    "train_df=raw_df[raw_df[\"day_id\"]<=limit].reset_index()\n",
    "val_df=raw_df[raw_df[\"day_id\"]>limit].reset_index()"
   ]
  },
  {
   "attachments": {},
   "cell_type": "markdown",
   "metadata": {},
   "source": [
    "# Creating annual curve dataset"
   ]
  },
  {
   "cell_type": "code",
   "execution_count": 71,
   "metadata": {},
   "outputs": [
    {
     "data": {
      "text/plain": [
       "<module 'dataset.dataset' from 'c:\\\\Users\\\\Edouard\\\\github\\\\DecathlonTest\\\\dataset\\\\dataset.py'>"
      ]
     },
     "execution_count": 71,
     "metadata": {},
     "output_type": "execute_result"
    }
   ],
   "source": [
    "from dataset import dataset\n",
    "from importlib import reload\n",
    "reload(dataset)"
   ]
  },
  {
   "cell_type": "code",
   "execution_count": 72,
   "metadata": {},
   "outputs": [
    {
     "name": "stderr",
     "output_type": "stream",
     "text": [
      "100%|██████████| 278/278 [00:09<00:00, 28.15it/s]\n",
      "100%|██████████| 322/322 [00:06<00:00, 48.74it/s]\n"
     ]
    }
   ],
   "source": [
    "deconv_ds_train=dataset.Annual_construction_dataset()\n",
    "deconv_ds_val=dataset.Annual_construction_dataset()\n",
    "deconv_ds_train.load_from_df(train_df,bu_feat)\n",
    "deconv_ds_val.load_from_df(val_df,bu_feat)"
   ]
  },
  {
   "cell_type": "code",
   "execution_count": 73,
   "metadata": {},
   "outputs": [],
   "source": [
    "with open('data_deconv_train.json', 'w') as f:\n",
    "    deconv_ds_train.save_ds_to_json(f)\n",
    "with open('data_deconv_val.json', 'w') as f:\n",
    "    deconv_ds_val.save_ds_to_json(f)"
   ]
  },
  {
   "cell_type": "code",
   "execution_count": 74,
   "metadata": {},
   "outputs": [],
   "source": [
    "deconv_ds_train=dataset.Annual_construction_dataset()\n",
    "with open('data_deconv_train.json', 'r') as f:\n",
    "    deconv_ds_train.load_from_json(f)\n",
    "deconv_ds_val=dataset.Annual_construction_dataset()\n",
    "with open('data_deconv_val.json', 'r') as f:\n",
    "    deconv_ds_val.load_from_json(f)"
   ]
  },
  {
   "cell_type": "code",
   "execution_count": 75,
   "metadata": {},
   "outputs": [],
   "source": [
    "deconv_ds_train.set_data_for_training(False)\n",
    "deconv_ds_val.set_data_for_training(False)"
   ]
  },
  {
   "attachments": {},
   "cell_type": "markdown",
   "metadata": {},
   "source": [
    "# Creating Turnover Dataset"
   ]
  },
  {
   "cell_type": "code",
   "execution_count": 155,
   "metadata": {},
   "outputs": [],
   "source": [
    "limit=pd.to_datetime('2015-31-31')\n",
    "train_df=raw_df[raw_df[\"day_id\"]<=limit].reset_index()\n",
    "val_df=raw_df[raw_df[\"day_id\"]>limit].reset_index()"
   ]
  },
  {
   "cell_type": "code",
   "execution_count": 160,
   "metadata": {},
   "outputs": [
    {
     "data": {
      "text/plain": [
       "<module 'dataset.dataset' from 'c:\\\\Users\\\\Edouard\\\\github\\\\DecathlonTest\\\\dataset\\\\dataset.py'>"
      ]
     },
     "execution_count": 160,
     "metadata": {},
     "output_type": "execute_result"
    }
   ],
   "source": [
    "from dataset import dataset\n",
    "from importlib import reload\n",
    "reload(dataset)"
   ]
  },
  {
   "cell_type": "code",
   "execution_count": 157,
   "metadata": {},
   "outputs": [],
   "source": [
    "ds_train=dataset.Turnover_dataset()\n",
    "ds_val=dataset.Turnover_dataset()"
   ]
  },
  {
   "cell_type": "code",
   "execution_count": 158,
   "metadata": {},
   "outputs": [
    {
     "name": "stderr",
     "output_type": "stream",
     "text": [
      "100%|██████████| 306/306 [16:02<00:00,  3.14s/it]\n",
      "100%|██████████| 322/322 [04:34<00:00,  1.17it/s]\n"
     ]
    }
   ],
   "source": [
    "ds_train.load_from_df(train_df,bu_feat)\n",
    "ds_val.load_from_df(val_df,bu_feat)"
   ]
  },
  {
   "cell_type": "code",
   "execution_count": null,
   "metadata": {},
   "outputs": [],
   "source": [
    "ds_train.set_data_for_training(False)\n",
    "ds_val.set_data_for_training(False)"
   ]
  },
  {
   "cell_type": "code",
   "execution_count": 161,
   "metadata": {},
   "outputs": [],
   "source": [
    "with open('train_data.json', 'w') as f:\n",
    "    ds_train.save_ds_to_json(f)\n",
    "with open('val_data.json', 'w') as f:\n",
    "    ds_val.save_ds_to_json(f)"
   ]
  },
  {
   "attachments": {},
   "cell_type": "markdown",
   "metadata": {},
   "source": [
    "# Tests"
   ]
  },
  {
   "cell_type": "code",
   "execution_count": 146,
   "metadata": {},
   "outputs": [
    {
     "data": {
      "text/html": [
       "<div>\n",
       "<style scoped>\n",
       "    .dataframe tbody tr th:only-of-type {\n",
       "        vertical-align: middle;\n",
       "    }\n",
       "\n",
       "    .dataframe tbody tr th {\n",
       "        vertical-align: top;\n",
       "    }\n",
       "\n",
       "    .dataframe thead th {\n",
       "        text-align: right;\n",
       "    }\n",
       "</style>\n",
       "<table border=\"1\" class=\"dataframe\">\n",
       "  <thead>\n",
       "    <tr style=\"text-align: right;\">\n",
       "      <th></th>\n",
       "      <th>index</th>\n",
       "      <th>day_id</th>\n",
       "      <th>but_num_business_unit</th>\n",
       "      <th>dpt_num_department</th>\n",
       "      <th>turnover</th>\n",
       "    </tr>\n",
       "  </thead>\n",
       "  <tbody>\n",
       "    <tr>\n",
       "      <th>100020</th>\n",
       "      <td>165833</td>\n",
       "      <td>2015-01-10</td>\n",
       "      <td>720</td>\n",
       "      <td>117</td>\n",
       "      <td>326.669407</td>\n",
       "    </tr>\n",
       "    <tr>\n",
       "      <th>100978</th>\n",
       "      <td>166791</td>\n",
       "      <td>2015-01-03</td>\n",
       "      <td>720</td>\n",
       "      <td>117</td>\n",
       "      <td>235.873458</td>\n",
       "    </tr>\n",
       "    <tr>\n",
       "      <th>102028</th>\n",
       "      <td>167841</td>\n",
       "      <td>2014-12-27</td>\n",
       "      <td>720</td>\n",
       "      <td>117</td>\n",
       "      <td>269.806463</td>\n",
       "    </tr>\n",
       "    <tr>\n",
       "      <th>102712</th>\n",
       "      <td>168525</td>\n",
       "      <td>2014-12-20</td>\n",
       "      <td>720</td>\n",
       "      <td>117</td>\n",
       "      <td>303.047327</td>\n",
       "    </tr>\n",
       "    <tr>\n",
       "      <th>103892</th>\n",
       "      <td>169705</td>\n",
       "      <td>2014-12-13</td>\n",
       "      <td>720</td>\n",
       "      <td>117</td>\n",
       "      <td>227.198501</td>\n",
       "    </tr>\n",
       "    <tr>\n",
       "      <th>105328</th>\n",
       "      <td>171141</td>\n",
       "      <td>2014-12-06</td>\n",
       "      <td>720</td>\n",
       "      <td>117</td>\n",
       "      <td>268.726778</td>\n",
       "    </tr>\n",
       "    <tr>\n",
       "      <th>106218</th>\n",
       "      <td>172031</td>\n",
       "      <td>2014-11-29</td>\n",
       "      <td>720</td>\n",
       "      <td>117</td>\n",
       "      <td>162.400409</td>\n",
       "    </tr>\n",
       "    <tr>\n",
       "      <th>107420</th>\n",
       "      <td>173233</td>\n",
       "      <td>2014-11-22</td>\n",
       "      <td>720</td>\n",
       "      <td>117</td>\n",
       "      <td>187.464123</td>\n",
       "    </tr>\n",
       "    <tr>\n",
       "      <th>107761</th>\n",
       "      <td>173574</td>\n",
       "      <td>2014-11-15</td>\n",
       "      <td>720</td>\n",
       "      <td>117</td>\n",
       "      <td>181.035454</td>\n",
       "    </tr>\n",
       "    <tr>\n",
       "      <th>109827</th>\n",
       "      <td>175640</td>\n",
       "      <td>2014-11-08</td>\n",
       "      <td>720</td>\n",
       "      <td>117</td>\n",
       "      <td>130.111317</td>\n",
       "    </tr>\n",
       "    <tr>\n",
       "      <th>110517</th>\n",
       "      <td>176330</td>\n",
       "      <td>2014-11-01</td>\n",
       "      <td>720</td>\n",
       "      <td>117</td>\n",
       "      <td>69.382491</td>\n",
       "    </tr>\n",
       "    <tr>\n",
       "      <th>111493</th>\n",
       "      <td>177306</td>\n",
       "      <td>2014-10-25</td>\n",
       "      <td>720</td>\n",
       "      <td>117</td>\n",
       "      <td>77.783833</td>\n",
       "    </tr>\n",
       "    <tr>\n",
       "      <th>112453</th>\n",
       "      <td>178266</td>\n",
       "      <td>2014-10-18</td>\n",
       "      <td>720</td>\n",
       "      <td>117</td>\n",
       "      <td>42.838675</td>\n",
       "    </tr>\n",
       "    <tr>\n",
       "      <th>113820</th>\n",
       "      <td>179633</td>\n",
       "      <td>2014-10-11</td>\n",
       "      <td>720</td>\n",
       "      <td>117</td>\n",
       "      <td>50.050539</td>\n",
       "    </tr>\n",
       "    <tr>\n",
       "      <th>114672</th>\n",
       "      <td>180485</td>\n",
       "      <td>2014-10-04</td>\n",
       "      <td>720</td>\n",
       "      <td>117</td>\n",
       "      <td>13.388377</td>\n",
       "    </tr>\n",
       "    <tr>\n",
       "      <th>116109</th>\n",
       "      <td>181922</td>\n",
       "      <td>2014-09-27</td>\n",
       "      <td>720</td>\n",
       "      <td>117</td>\n",
       "      <td>2.246438</td>\n",
       "    </tr>\n",
       "  </tbody>\n",
       "</table>\n",
       "</div>"
      ],
      "text/plain": [
       "         index     day_id  but_num_business_unit  dpt_num_department  \\\n",
       "100020  165833 2015-01-10                    720                 117   \n",
       "100978  166791 2015-01-03                    720                 117   \n",
       "102028  167841 2014-12-27                    720                 117   \n",
       "102712  168525 2014-12-20                    720                 117   \n",
       "103892  169705 2014-12-13                    720                 117   \n",
       "105328  171141 2014-12-06                    720                 117   \n",
       "106218  172031 2014-11-29                    720                 117   \n",
       "107420  173233 2014-11-22                    720                 117   \n",
       "107761  173574 2014-11-15                    720                 117   \n",
       "109827  175640 2014-11-08                    720                 117   \n",
       "110517  176330 2014-11-01                    720                 117   \n",
       "111493  177306 2014-10-25                    720                 117   \n",
       "112453  178266 2014-10-18                    720                 117   \n",
       "113820  179633 2014-10-11                    720                 117   \n",
       "114672  180485 2014-10-04                    720                 117   \n",
       "116109  181922 2014-09-27                    720                 117   \n",
       "\n",
       "          turnover  \n",
       "100020  326.669407  \n",
       "100978  235.873458  \n",
       "102028  269.806463  \n",
       "102712  303.047327  \n",
       "103892  227.198501  \n",
       "105328  268.726778  \n",
       "106218  162.400409  \n",
       "107420  187.464123  \n",
       "107761  181.035454  \n",
       "109827  130.111317  \n",
       "110517   69.382491  \n",
       "111493   77.783833  \n",
       "112453   42.838675  \n",
       "113820   50.050539  \n",
       "114672   13.388377  \n",
       "116109    2.246438  "
      ]
     },
     "execution_count": 146,
     "metadata": {},
     "output_type": "execute_result"
    }
   ],
   "source": [
    "train_df[(train_df[\"day_id\"]>='2014-09-27') \n",
    "    & (train_df[\"day_id\"]<=(pd.to_datetime('2014-09-27')+pd.DateOffset(weeks=15)))\n",
    "    & (train_df[\"but_num_business_unit\"]==720) \n",
    "    & (train_df[\"dpt_num_department\"]==117)]"
   ]
  }
 ],
 "metadata": {
  "kernelspec": {
   "display_name": "Python 3",
   "language": "python",
   "name": "python3"
  },
  "language_info": {
   "codemirror_mode": {
    "name": "ipython",
    "version": 3
   },
   "file_extension": ".py",
   "mimetype": "text/x-python",
   "name": "python",
   "nbconvert_exporter": "python",
   "pygments_lexer": "ipython3",
   "version": "3.9.7"
  },
  "orig_nbformat": 4,
  "vscode": {
   "interpreter": {
    "hash": "acb408c112aa627a318ac6bee697c54a21dc0d988d17c05deacc60f98e48531a"
   }
  }
 },
 "nbformat": 4,
 "nbformat_minor": 2
}
