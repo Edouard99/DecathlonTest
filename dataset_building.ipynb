{
 "cells": [
  {
   "attachments": {},
   "cell_type": "markdown",
   "metadata": {},
   "source": [
    "# Import libs & data"
   ]
  },
  {
   "cell_type": "code",
   "execution_count": 34,
   "metadata": {},
   "outputs": [],
   "source": [
    "import numpy as np\n",
    "import pandas as pd\n",
    "import os"
   ]
  },
  {
   "cell_type": "code",
   "execution_count": 35,
   "metadata": {},
   "outputs": [],
   "source": [
    "train_df=pd.read_csv(\"./test_data_scientist/train.csv\")\n",
    "test_df=pd.read_csv(\"./test_data_scientist/test.csv\")\n",
    "bu_feat=pd.read_csv(\"./test_data_scientist/bu_feat.csv\")"
   ]
  },
  {
   "cell_type": "code",
   "execution_count": 36,
   "metadata": {},
   "outputs": [],
   "source": [
    "train_df[\"day_id\"]=pd.to_datetime(train_df[\"day_id\"])\n",
    "test_df[\"day_id\"]=pd.to_datetime(test_df[\"day_id\"])\n",
    "test_df=test_df.join(test_df[\"day_id\"].dt.isocalendar())\n",
    "train_df=train_df.join(train_df[\"day_id\"].dt.isocalendar())"
   ]
  },
  {
   "attachments": {},
   "cell_type": "markdown",
   "metadata": {},
   "source": [
    "# Creating Dataset"
   ]
  },
  {
   "cell_type": "code",
   "execution_count": null,
   "metadata": {},
   "outputs": [],
   "source": [
    "train_df"
   ]
  },
  {
   "cell_type": "code",
   "execution_count": 38,
   "metadata": {},
   "outputs": [
    {
     "data": {
      "text/plain": [
       "<module 'dataset.dataset' from 'c:\\\\Users\\\\Edouard\\\\github\\\\DecathlonTest\\\\dataset\\\\dataset.py'>"
      ]
     },
     "execution_count": 38,
     "metadata": {},
     "output_type": "execute_result"
    }
   ],
   "source": [
    "from dataset import dataset\n",
    "from importlib import reload\n",
    "reload(dataset)"
   ]
  },
  {
   "cell_type": "code",
   "execution_count": 39,
   "metadata": {},
   "outputs": [
    {
     "name": "stderr",
     "output_type": "stream",
     "text": [
      "100%|██████████| 322/322 [24:01<00:00,  4.48s/it]\n"
     ]
    }
   ],
   "source": [
    "ds=dataset.Turnover_dataset(\"./test_data_scientist/\",True)"
   ]
  },
  {
   "attachments": {},
   "cell_type": "markdown",
   "metadata": {},
   "source": [
    "# Saving to json"
   ]
  },
  {
   "cell_type": "code",
   "execution_count": 40,
   "metadata": {},
   "outputs": [],
   "source": [
    "import json\n",
    "\n",
    "\n",
    "class NpEncoder(json.JSONEncoder):\n",
    "    def default(self, obj):\n",
    "        if isinstance(obj, np.integer):\n",
    "            return int(obj)\n",
    "        if isinstance(obj, np.floating):\n",
    "            return float(obj)\n",
    "        if isinstance(obj, np.ndarray):\n",
    "            return obj.tolist()\n",
    "        if isinstance(obj,type(pd.to_datetime('2022-01-01'))):\n",
    "            return str(obj)\n",
    "        return super(NpEncoder, self).default(obj)\n",
    "\n",
    "with open('data.json', 'w') as f:\n",
    "    json.dump(ds.dic, f,cls=NpEncoder)"
   ]
  },
  {
   "attachments": {},
   "cell_type": "markdown",
   "metadata": {},
   "source": [
    "# Loading json"
   ]
  },
  {
   "cell_type": "code",
   "execution_count": 30,
   "metadata": {},
   "outputs": [],
   "source": [
    "import json\n",
    "with open('data.json', 'r') as f:\n",
    "    dic=json.load(f)\n",
    "samples=[]\n",
    "for key in dic.keys():\n",
    "    samples.append(dic[key])"
   ]
  },
  {
   "attachments": {},
   "cell_type": "markdown",
   "metadata": {},
   "source": [
    "# Tests"
   ]
  },
  {
   "cell_type": "code",
   "execution_count": 33,
   "metadata": {},
   "outputs": [
    {
     "data": {
      "text/plain": [
       "8"
      ]
     },
     "execution_count": 33,
     "metadata": {},
     "output_type": "execute_result"
    }
   ],
   "source": [
    "len(samples[0][\"zod_idr_enc\"])"
   ]
  },
  {
   "cell_type": "code",
   "execution_count": null,
   "metadata": {},
   "outputs": [],
   "source": [
    "train_df[(train_df[\"day_id\"]>='2015-11-07') \n",
    "    & (train_df[\"day_id\"]<=(pd.to_datetime('2015-11-07')+pd.DateOffset(weeks=15)))\n",
    "    & (train_df[\"but_num_business_unit\"]==381) \n",
    "    & (train_df[\"dpt_num_department\"]==127)]"
   ]
  }
 ],
 "metadata": {
  "kernelspec": {
   "display_name": "Python 3",
   "language": "python",
   "name": "python3"
  },
  "language_info": {
   "codemirror_mode": {
    "name": "ipython",
    "version": 3
   },
   "file_extension": ".py",
   "mimetype": "text/x-python",
   "name": "python",
   "nbconvert_exporter": "python",
   "pygments_lexer": "ipython3",
   "version": "3.9.7"
  },
  "orig_nbformat": 4,
  "vscode": {
   "interpreter": {
    "hash": "acb408c112aa627a318ac6bee697c54a21dc0d988d17c05deacc60f98e48531a"
   }
  }
 },
 "nbformat": 4,
 "nbformat_minor": 2
}
