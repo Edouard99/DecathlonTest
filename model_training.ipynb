{
 "cells": [
  {
   "attachments": {},
   "cell_type": "markdown",
   "metadata": {},
   "source": [
    "# Import Files & Libs"
   ]
  },
  {
   "cell_type": "code",
   "execution_count": null,
   "metadata": {},
   "outputs": [],
   "source": [
    "from google.colab import drive\n",
    "from google.colab import files\n",
    "drive.mount(\"/content/gdrive\", force_remount=True)\n",
    "!cp /content/gdrive/MyDrive/Decathlon/project.zip /content/\n",
    "!unzip -q /content/project.zip\n",
    "!rm /content/project.zip\n",
    "!mkdir /content/results"
   ]
  },
  {
   "cell_type": "code",
   "execution_count": 59,
   "metadata": {},
   "outputs": [
    {
     "data": {
      "text/plain": [
       "<module 'training.training' from 'c:\\\\Users\\\\Edouard\\\\github\\\\DecathlonTest\\\\training\\\\training.py'>"
      ]
     },
     "execution_count": 59,
     "metadata": {},
     "output_type": "execute_result"
    }
   ],
   "source": [
    "import torch\n",
    "import torch.nn\n",
    "import numpy as np\n",
    "import matplotlib.pyplot as plt\n",
    "\n",
    "from model import lstm\n",
    "from dataset import dataset\n",
    "from training import training\n",
    "\n",
    "\n",
    "import torch.optim as optim\n",
    "import tqdm\n",
    "import os\n",
    "from importlib import reload\n",
    "reload(lstm)\n",
    "reload(dataset)\n",
    "reload(training)"
   ]
  },
  {
   "attachments": {},
   "cell_type": "markdown",
   "metadata": {},
   "source": [
    "# Load Data"
   ]
  },
  {
   "cell_type": "code",
   "execution_count": 41,
   "metadata": {},
   "outputs": [],
   "source": [
    "ds_train=dataset.Turnover_dataset()\n",
    "ds_val=dataset.Turnover_dataset()\n",
    "with open('/content/train_data.json', 'r') as f:\n",
    "    ds_train.load_from_json(f)\n",
    "with open('/content/val_data.json', 'r') as f:\n",
    "    ds_val.load_from_json(f)\n",
    "ds_train.set_data_for_training(False)\n",
    "ds_val.set_data_for_training(False)\n",
    "dataloader_t = torch.utils.data.DataLoader(ds_train,batch_size=32,shuffle=True,drop_last=False) #Dataloader train set\n",
    "dataloader_v = torch.utils.data.DataLoader(ds_val,batch_size=32,shuffle=True,drop_last=False) #Dataloader validation set"
   ]
  },
  {
   "attachments": {},
   "cell_type": "markdown",
   "metadata": {},
   "source": [
    "# Model"
   ]
  },
  {
   "cell_type": "code",
   "execution_count": 60,
   "metadata": {},
   "outputs": [],
   "source": [
    "device= torch.device(\"cuda:0\")\n",
    "model = lstm.LSTM_Turnoverv2(True,hidden_size=48).to(device)"
   ]
  },
  {
   "cell_type": "code",
   "execution_count": 45,
   "metadata": {},
   "outputs": [
    {
     "name": "stdout",
     "output_type": "stream",
     "text": [
      "30455\n"
     ]
    }
   ],
   "source": [
    "param=0\n",
    "for key in model.state_dict():\n",
    "    param+=model.state_dict()[key].view(-1).shape[0]\n",
    "print(param)"
   ]
  },
  {
   "cell_type": "code",
   "execution_count": 13,
   "metadata": {},
   "outputs": [
    {
     "name": "stdout",
     "output_type": "stream",
     "text": [
      "Adjusting learning rate of group 0 to 3.0000e-04.\n"
     ]
    }
   ],
   "source": [
    "optimizer = optim.Adam(model.parameters(), lr=3e-4, betas=(0.9, 0.999)) #Adam Optimizer \n",
    "scheduler = torch.optim.lr_scheduler.StepLR(optimizer, step_size=5, gamma=0.3,verbose=True) #Learning rate scheduler\n",
    "num_epochs=20"
   ]
  },
  {
   "cell_type": "code",
   "execution_count": null,
   "metadata": {},
   "outputs": [],
   "source": [
    "training.training(num_epochs,model,optimizer,scheduler,dataloader_t,dataloader_v,device,\"/content/results/\")"
   ]
  },
  {
   "cell_type": "code",
   "execution_count": null,
   "metadata": {},
   "outputs": [],
   "source": [
    "model.load_state_dict(torch.load(\"/content/results/checkpoint_14.pth\")['model_state_dict'])\n",
    "data=next(iter(dataloader_v))\n",
    "future_pred=data[\"y\"].shape[1]\n",
    "y=model(data[\"x\"].float().to(device),data[\"dep\"].float().to(device),data[\"idr\"].float().to(device),\n",
    "    data[\"zod\"].float().to(device),data[\"add_input\"].float().to(device),future_pred)\n",
    "y=y[:,-future_pred:]\n",
    "gt=data[\"y\"].float()\n",
    "pred=y[0].to(torch.device(\"cpu\"))\n",
    "g=gt[0]\n",
    "id=data[\"id\"][0]\n",
    "sample=ds_val.samples[id]\n",
    "raw_xy=sample[\"raw_xy\"]\n",
    "min=sample[\"min_x\"]\n",
    "max=sample[\"max_x\"]\n",
    "diff_recons=np.concatenate((dataset.inversenorm(data[\"x\"][0].float().numpy(),max,min),dataset.inversenorm(pred.detach().numpy(),max,min)))\n",
    "final=dataset.inverse_diff(raw_xy[0],diff_recons)\n",
    "plt.plot(final,color='red')\n",
    "plt.plot(raw_xy)"
   ]
  }
 ],
 "metadata": {
  "kernelspec": {
   "display_name": "Python 3",
   "language": "python",
   "name": "python3"
  },
  "language_info": {
   "codemirror_mode": {
    "name": "ipython",
    "version": 3
   },
   "file_extension": ".py",
   "mimetype": "text/x-python",
   "name": "python",
   "nbconvert_exporter": "python",
   "pygments_lexer": "ipython3",
   "version": "3.9.7 (tags/v3.9.7:1016ef3, Aug 30 2021, 20:19:38) [MSC v.1929 64 bit (AMD64)]"
  },
  "orig_nbformat": 4,
  "vscode": {
   "interpreter": {
    "hash": "acb408c112aa627a318ac6bee697c54a21dc0d988d17c05deacc60f98e48531a"
   }
  }
 },
 "nbformat": 4,
 "nbformat_minor": 2
}
