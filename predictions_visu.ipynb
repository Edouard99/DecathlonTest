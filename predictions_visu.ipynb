{
 "cells": [
  {
   "cell_type": "code",
   "execution_count": null,
   "metadata": {},
   "outputs": [],
   "source": [
    "import numpy as np\n",
    "import matplotlib.pyplot as plt\n",
    "from utils import options\n",
    "from dataset import predset\n",
    "from model import modelset\n",
    "import pandas as pd\n",
    "import torch\n",
    "from utils import utils\n",
    "from model import lstm\n",
    "from importlib import reload\n",
    "reload(utils)\n",
    "reload(lstm)\n",
    "reload(predset)\n",
    "reload(modelset)"
   ]
  },
  {
   "attachments": {},
   "cell_type": "markdown",
   "metadata": {},
   "source": [
    "Make prediction on your files in folder test_data_scientist :"
   ]
  },
  {
   "cell_type": "code",
   "execution_count": null,
   "metadata": {},
   "outputs": [],
   "source": [
    "class Opt():\n",
    "    def __init__(self):\n",
    "        self.dataroot=\"./test_data_scientist/\"\n",
    "        self.device=0\n",
    "opt = Opt()\n",
    "if opt.device==1:\n",
    "    device=torch.device(\"cuda:0\")\n",
    "    print(\"Using GPU... \\n\")\n",
    "else:\n",
    "    device=torch.device(\"cpu\")\n",
    "    print(\"Using CPU... \\n\")\n",
    "pred_set=predset.PredSet()\n",
    "pred_set.initialize(opt)\n",
    "model_set=modelset.ModelSet()\n",
    "model_set.initialize(device)\n",
    "model_set.predict(pred_set)"
   ]
  },
  {
   "attachments": {},
   "cell_type": "markdown",
   "metadata": {},
   "source": [
    "# To use with Training & Validation dataset"
   ]
  },
  {
   "cell_type": "code",
   "execution_count": null,
   "metadata": {},
   "outputs": [],
   "source": [
    "sample=pred_set.dataset_to_nn.samples[6]\n",
    "sample"
   ]
  },
  {
   "cell_type": "code",
   "execution_count": null,
   "metadata": {},
   "outputs": [],
   "source": [
    "plt.plot(sample[\"x\"])\n",
    "plt.plot(utils.inversenorm(np.concatenate((sample[\"annual_x\"],sample[\"annual_y\"])),sample[\"max_turn\"],sample[\"min_turn\"]))\n",
    "plt.show()"
   ]
  },
  {
   "cell_type": "code",
   "execution_count": null,
   "metadata": {},
   "outputs": [],
   "source": [
    "truth=pred_set.pred_df[(pred_set.pred_df[\"but_num_business_unit\"]==sample[\"bu_num\"])\n",
    "                        & (pred_set.pred_df[\"dpt_num_department\"]==sample[\"dep\"])\n",
    "                        ].sort_values(by=[\"day_id\"]).reset_index(drop=True)[\"turnover\"].to_numpy()\n",
    "plt.plot(np.concatenate((sample[\"x\"],sample[\"pred\"])),color=\"red\")\n",
    "plt.plot(np.concatenate((sample[\"x\"],truth)),color=\"cyan\")\n",
    "plt.plot(sample[\"x\"],color=\"blue\")\n",
    "plt.plot(utils.inversenorm(np.concatenate((sample[\"annual_x\"],sample[\"annual_y\"])),sample[\"max_turn\"],sample[\"min_turn\"]),color=\"green\")\n",
    "plt.show()"
   ]
  },
  {
   "cell_type": "code",
   "execution_count": null,
   "metadata": {},
   "outputs": [],
   "source": [
    "device= torch.device(\"cpu\")\n",
    "dep=sample[\"dep\"]\n",
    "model = lstm.LSTM_Turnover(True,hidden_size=64,num_of_layer=4).to(device)\n",
    "model.load_state_dict(torch.load(\"./model/models_weights/weights_{}.pth\".format(dep),map_location='cpu')['model_state_dict'])\n",
    "man_pred=model( torch.Tensor(sample[\"normed_x\"]).float().unsqueeze(0).to(device),\n",
    "                    torch.Tensor(sample[\"annual_x\"]).float().unsqueeze(0).to(device),\n",
    "                    torch.Tensor(sample[\"annual_y\"]).float().unsqueeze(0).to(device),\n",
    "                    8)\n",
    "man_pred=man_pred[0,-8:].detach().numpy()\n",
    "man_pred_un=utils.inversenorm(man_pred,sample[\"max_turn\"],sample[\"min_turn\"])"
   ]
  },
  {
   "cell_type": "code",
   "execution_count": null,
   "metadata": {},
   "outputs": [],
   "source": [
    "device= torch.device(\"cpu\")\n",
    "dep=sample[\"dep\"]\n",
    "model = lstm.LSTM_Turnover(True,hidden_size=64,num_of_layer=4).to(device)\n",
    "model.load_state_dict(torch.load(\"./model/models_weights/weights_{}.pth\".format(dep),map_location='cpu')['model_state_dict'])\n",
    "man_pred=model( torch.Tensor(sample[\"normed_x\"]).float().unsqueeze(0).to(device),\n",
    "                    torch.Tensor(sample[\"annual_x\"]).float().unsqueeze(0).to(device),\n",
    "                    torch.Tensor(sample[\"annual_y\"]).float().unsqueeze(0).to(device),\n",
    "                    8)\n",
    "man_pred=man_pred[0,-8:].detach().numpy()\n",
    "man_pred_un=utils.inversenorm(man_pred,sample[\"max_turn\"],sample[\"min_turn\"])"
   ]
  },
  {
   "cell_type": "code",
   "execution_count": null,
   "metadata": {},
   "outputs": [],
   "source": [
    "device= torch.device(\"cpu\")\n",
    "dep=sample[\"dep\"]\n",
    "model = lstm.LSTM_Turnover(True,hidden_size=64,num_of_layer=4).to(device)\n",
    "model.load_state_dict(torch.load(\"./model/models_weights/weights_{}.pth\".format(dep),map_location='cpu')['model_state_dict'])\n",
    "man_pred=model( torch.Tensor(sample[\"normed_x\"]).float().unsqueeze(0).to(device),\n",
    "                    torch.Tensor(sample[\"annual_x\"]).float().unsqueeze(0).to(device),\n",
    "                    torch.Tensor(sample[\"annual_y\"]).float().unsqueeze(0).to(device),\n",
    "                    8)\n",
    "man_pred=man_pred[0,-8:].detach().numpy()\n",
    "man_pred_un=utils.inversenorm(man_pred,sample[\"max_turn\"],sample[\"min_turn\"])"
   ]
  },
  {
   "cell_type": "code",
   "execution_count": null,
   "metadata": {},
   "outputs": [],
   "source": [
    "pred_set.write_prediction()"
   ]
  },
  {
   "cell_type": "code",
   "execution_count": null,
   "metadata": {},
   "outputs": [],
   "source": [
    "res=pred_set.results_df.sort_values(by=[\"day_id\"])\n",
    "y=res[(res[\"but_num_business_unit\"]==sample[\"bu_num\"]) & (res[\"dpt_num_department\"]==sample[\"dep\"])][\"results\"].to_numpy()\n",
    "y_t=res[(res[\"but_num_business_unit\"]==sample[\"bu_num\"]) & (res[\"dpt_num_department\"]==sample[\"dep\"])][\"turnover\"].to_numpy()\n",
    "plt.plot(y)\n",
    "plt.plot(y_t)"
   ]
  },
  {
   "attachments": {},
   "cell_type": "markdown",
   "metadata": {},
   "source": [
    "# To use with Training & Test datasets"
   ]
  },
  {
   "cell_type": "code",
   "execution_count": null,
   "metadata": {},
   "outputs": [],
   "source": [
    "sample=None\n",
    "for elem in pred_set.dataset_to_nn.samples:\n",
    "    if (elem[\"bu_num\"]==4) & (elem[\"dep\"]==117):\n",
    "        sample=elem\n",
    "sample\n"
   ]
  },
  {
   "cell_type": "code",
   "execution_count": null,
   "metadata": {},
   "outputs": [],
   "source": [
    "plt.plot(utils.inversenorm(np.concatenate((sample[\"annual_x\"],sample[\"annual_y\"])),sample[\"max_turn\"],sample[\"min_turn\"]))\n",
    "plt.plot(np.concatenate((sample[\"x\"],sample[\"pred\"])),color=\"red\",linewidth=4)\n",
    "plt.plot(sample[\"x\"])\n",
    "plt.show()"
   ]
  }
 ],
 "metadata": {
  "kernelspec": {
   "display_name": "Python 3",
   "language": "python",
   "name": "python3"
  },
  "language_info": {
   "name": "python",
   "version": "3.9.7 (tags/v3.9.7:1016ef3, Aug 30 2021, 20:19:38) [MSC v.1929 64 bit (AMD64)]"
  },
  "orig_nbformat": 4,
  "vscode": {
   "interpreter": {
    "hash": "acb408c112aa627a318ac6bee697c54a21dc0d988d17c05deacc60f98e48531a"
   }
  }
 },
 "nbformat": 4,
 "nbformat_minor": 2
}
